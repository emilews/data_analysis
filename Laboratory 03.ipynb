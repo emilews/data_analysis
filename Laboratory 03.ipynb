{
 "cells": [
  {
   "cell_type": "code",
   "execution_count": 1,
   "metadata": {},
   "outputs": [],
   "source": [
    "import pandas as pd\n",
    "import numpy as np\n",
    "import seaborn as sns\n",
    "import matplotlib.pyplot as plt\n",
    "from numpy import mean\n",
    "from numpy import std"
   ]
  },
  {
   "cell_type": "code",
   "execution_count": 2,
   "metadata": {},
   "outputs": [
    {
     "name": "stdout",
     "output_type": "stream",
     "text": [
      "1889\n",
      "           name gender  frequency\n",
      "1999  Zachariah      M          5\n",
      "900     Manuela      F          5\n",
      "899    Manervia      F          5\n",
      "898     Mahalia      F          5\n",
      "897      Madora      F          5\n",
      "...         ...    ...        ...\n",
      "945     Charles      M       5348\n",
      "944       James      M       5927\n",
      "0          Mary      F       7065\n",
      "943     William      M       9532\n",
      "942        John      M       9655\n",
      "\n",
      "[2000 rows x 3 columns]\n"
     ]
    }
   ],
   "source": [
    "df = pd.read_csv('data/names/yob1880.txt', sep=\",\", header=None, names=[\"name\", \"gender\", \"frequency\"])\n",
    "df=df.sort_values(by=['frequency'])\n",
    "print(len(df['name'].unique()))\n",
    "print(df)"
   ]
  },
  {
   "cell_type": "code",
   "execution_count": 3,
   "metadata": {},
   "outputs": [],
   "source": [
    "\n",
    "df2 = pd.read_csv('data/names/yob1881.txt', sep=\",\", header=None, names=[\"name\", \"gender\", \"frequency\"])\n",
    "df2=df2.sort_values(by=['frequency'])"
   ]
  },
  {
   "cell_type": "code",
   "execution_count": 4,
   "metadata": {},
   "outputs": [
    {
     "name": "stdout",
     "output_type": "stream",
     "text": [
      "1830\n",
      "         name gender  frequency\n",
      "1934   Wright      M          5\n",
      "896    Lissie      F          5\n",
      "895     Lilie      F          5\n",
      "894     Libby      F          5\n",
      "893    Levina      F          5\n",
      "...       ...    ...        ...\n",
      "941    George      M       4664\n",
      "940     James      M       5441\n",
      "0        Mary      F       6919\n",
      "939   William      M       8524\n",
      "938      John      M       8769\n",
      "\n",
      "[1935 rows x 3 columns]\n"
     ]
    }
   ],
   "source": [
    "print(len(df2['name'].unique()))\n",
    "print(df2)"
   ]
  },
  {
   "cell_type": "code",
   "execution_count": 5,
   "metadata": {},
   "outputs": [],
   "source": [
    "df3=pd.concat([df, df2]).groupby(['name', 'gender']).sum().reset_index()"
   ]
  },
  {
   "cell_type": "code",
   "execution_count": 6,
   "metadata": {},
   "outputs": [
    {
     "data": {
      "text/html": [
       "<div>\n",
       "<style scoped>\n",
       "    .dataframe tbody tr th:only-of-type {\n",
       "        vertical-align: middle;\n",
       "    }\n",
       "\n",
       "    .dataframe tbody tr th {\n",
       "        vertical-align: top;\n",
       "    }\n",
       "\n",
       "    .dataframe thead th {\n",
       "        text-align: right;\n",
       "    }\n",
       "</style>\n",
       "<table border=\"1\" class=\"dataframe\">\n",
       "  <thead>\n",
       "    <tr style=\"text-align: right;\">\n",
       "      <th></th>\n",
       "      <th>name</th>\n",
       "      <th>gender</th>\n",
       "      <th>frequency</th>\n",
       "    </tr>\n",
       "  </thead>\n",
       "  <tbody>\n",
       "    <tr>\n",
       "      <th>883</th>\n",
       "      <td>Gardner</td>\n",
       "      <td>M</td>\n",
       "      <td>5</td>\n",
       "    </tr>\n",
       "    <tr>\n",
       "      <th>481</th>\n",
       "      <td>Cordella</td>\n",
       "      <td>F</td>\n",
       "      <td>5</td>\n",
       "    </tr>\n",
       "    <tr>\n",
       "      <th>2171</th>\n",
       "      <td>Vaughn</td>\n",
       "      <td>M</td>\n",
       "      <td>5</td>\n",
       "    </tr>\n",
       "    <tr>\n",
       "      <th>475</th>\n",
       "      <td>Conway</td>\n",
       "      <td>M</td>\n",
       "      <td>5</td>\n",
       "    </tr>\n",
       "    <tr>\n",
       "      <th>1931</th>\n",
       "      <td>Robin</td>\n",
       "      <td>M</td>\n",
       "      <td>5</td>\n",
       "    </tr>\n",
       "    <tr>\n",
       "      <th>...</th>\n",
       "      <td>...</td>\n",
       "      <td>...</td>\n",
       "      <td>...</td>\n",
       "    </tr>\n",
       "    <tr>\n",
       "      <th>392</th>\n",
       "      <td>Charles</td>\n",
       "      <td>M</td>\n",
       "      <td>9984</td>\n",
       "    </tr>\n",
       "    <tr>\n",
       "      <th>1129</th>\n",
       "      <td>James</td>\n",
       "      <td>M</td>\n",
       "      <td>11368</td>\n",
       "    </tr>\n",
       "    <tr>\n",
       "      <th>1553</th>\n",
       "      <td>Mary</td>\n",
       "      <td>F</td>\n",
       "      <td>13984</td>\n",
       "    </tr>\n",
       "    <tr>\n",
       "      <th>2255</th>\n",
       "      <td>William</td>\n",
       "      <td>M</td>\n",
       "      <td>18056</td>\n",
       "    </tr>\n",
       "    <tr>\n",
       "      <th>1186</th>\n",
       "      <td>John</td>\n",
       "      <td>M</td>\n",
       "      <td>18424</td>\n",
       "    </tr>\n",
       "  </tbody>\n",
       "</table>\n",
       "<p>2310 rows × 3 columns</p>\n",
       "</div>"
      ],
      "text/plain": [
       "          name gender  frequency\n",
       "883    Gardner      M          5\n",
       "481   Cordella      F          5\n",
       "2171    Vaughn      M          5\n",
       "475     Conway      M          5\n",
       "1931     Robin      M          5\n",
       "...        ...    ...        ...\n",
       "392    Charles      M       9984\n",
       "1129     James      M      11368\n",
       "1553      Mary      F      13984\n",
       "2255   William      M      18056\n",
       "1186      John      M      18424\n",
       "\n",
       "[2310 rows x 3 columns]"
      ]
     },
     "execution_count": 6,
     "metadata": {},
     "output_type": "execute_result"
    }
   ],
   "source": [
    "df3.sort_values(by=['frequency'])"
   ]
  },
  {
   "cell_type": "code",
   "execution_count": 10,
   "metadata": {},
   "outputs": [],
   "source": [
    "for i in range(2009, 2018):\n",
    "    year = i\n",
    "    next_year = i + 1\n",
    "    if year == 2009:\n",
    "        df = pd.read_csv('data/names/yob%s.txt' % year, sep=\",\", header=None, names=[\"name\", \"gender\", \"frequency\"])\n",
    "        df2 = pd.read_csv('data/names/yob%s.txt' % next_year, sep=\",\", header=None, names=[\"name\", \"gender\", \"frequency\"])\n",
    "        df=pd.concat([df, df2]).groupby(['name', 'gender']).sum().reset_index()\n",
    "    else:\n",
    "        df2 = pd.read_csv('data/names/yob%s.txt' % next_year, sep=\",\", header=None, names=[\"name\", \"gender\", \"frequency\"])\n",
    "        df=pd.concat([df, df2]).groupby(['name', 'gender']).sum().reset_index()"
   ]
  },
  {
   "cell_type": "code",
   "execution_count": 12,
   "metadata": {},
   "outputs": [],
   "source": [
    "df= df.sort_values(by=['frequency'])"
   ]
  },
  {
   "cell_type": "code",
   "execution_count": 13,
   "metadata": {},
   "outputs": [
    {
     "data": {
      "text/html": [
       "<div>\n",
       "<style scoped>\n",
       "    .dataframe tbody tr th:only-of-type {\n",
       "        vertical-align: middle;\n",
       "    }\n",
       "\n",
       "    .dataframe tbody tr th {\n",
       "        vertical-align: top;\n",
       "    }\n",
       "\n",
       "    .dataframe thead th {\n",
       "        text-align: right;\n",
       "    }\n",
       "</style>\n",
       "<table border=\"1\" class=\"dataframe\">\n",
       "  <thead>\n",
       "    <tr style=\"text-align: right;\">\n",
       "      <th></th>\n",
       "      <th>name</th>\n",
       "      <th>gender</th>\n",
       "      <th>frequency</th>\n",
       "    </tr>\n",
       "  </thead>\n",
       "  <tbody>\n",
       "    <tr>\n",
       "      <th>12015</th>\n",
       "      <td>Chikamara</td>\n",
       "      <td>F</td>\n",
       "      <td>5</td>\n",
       "    </tr>\n",
       "    <tr>\n",
       "      <th>42343</th>\n",
       "      <td>Nahjai</td>\n",
       "      <td>F</td>\n",
       "      <td>5</td>\n",
       "    </tr>\n",
       "    <tr>\n",
       "      <th>12138</th>\n",
       "      <td>Chrissean</td>\n",
       "      <td>M</td>\n",
       "      <td>5</td>\n",
       "    </tr>\n",
       "    <tr>\n",
       "      <th>12145</th>\n",
       "      <td>Christ</td>\n",
       "      <td>F</td>\n",
       "      <td>5</td>\n",
       "    </tr>\n",
       "    <tr>\n",
       "      <th>42334</th>\n",
       "      <td>Nahil</td>\n",
       "      <td>M</td>\n",
       "      <td>5</td>\n",
       "    </tr>\n",
       "    <tr>\n",
       "      <th>...</th>\n",
       "      <td>...</td>\n",
       "      <td>...</td>\n",
       "      <td>...</td>\n",
       "    </tr>\n",
       "    <tr>\n",
       "      <th>23190</th>\n",
       "      <td>Isabella</td>\n",
       "      <td>F</td>\n",
       "      <td>179015</td>\n",
       "    </tr>\n",
       "    <tr>\n",
       "      <th>43987</th>\n",
       "      <td>Noah</td>\n",
       "      <td>M</td>\n",
       "      <td>180904</td>\n",
       "    </tr>\n",
       "    <tr>\n",
       "      <th>44660</th>\n",
       "      <td>Olivia</td>\n",
       "      <td>F</td>\n",
       "      <td>183016</td>\n",
       "    </tr>\n",
       "    <tr>\n",
       "      <th>52431</th>\n",
       "      <td>Sophia</td>\n",
       "      <td>F</td>\n",
       "      <td>183930</td>\n",
       "    </tr>\n",
       "    <tr>\n",
       "      <th>18071</th>\n",
       "      <td>Emma</td>\n",
       "      <td>F</td>\n",
       "      <td>195305</td>\n",
       "    </tr>\n",
       "  </tbody>\n",
       "</table>\n",
       "<p>60571 rows × 3 columns</p>\n",
       "</div>"
      ],
      "text/plain": [
       "            name gender  frequency\n",
       "12015  Chikamara      F          5\n",
       "42343     Nahjai      F          5\n",
       "12138  Chrissean      M          5\n",
       "12145     Christ      F          5\n",
       "42334      Nahil      M          5\n",
       "...          ...    ...        ...\n",
       "23190   Isabella      F     179015\n",
       "43987       Noah      M     180904\n",
       "44660     Olivia      F     183016\n",
       "52431     Sophia      F     183930\n",
       "18071       Emma      F     195305\n",
       "\n",
       "[60571 rows x 3 columns]"
      ]
     },
     "execution_count": 13,
     "metadata": {},
     "output_type": "execute_result"
    }
   ],
   "source": [
    "df"
   ]
  },
  {
   "cell_type": "code",
   "execution_count": null,
   "metadata": {},
   "outputs": [],
   "source": []
  }
 ],
 "metadata": {
  "kernelspec": {
   "display_name": "Python 3",
   "language": "python",
   "name": "python3"
  },
  "language_info": {
   "codemirror_mode": {
    "name": "ipython",
    "version": 3
   },
   "file_extension": ".py",
   "mimetype": "text/x-python",
   "name": "python",
   "nbconvert_exporter": "python",
   "pygments_lexer": "ipython3",
   "version": "3.6.9"
  }
 },
 "nbformat": 4,
 "nbformat_minor": 4
}
