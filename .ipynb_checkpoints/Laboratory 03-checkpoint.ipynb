{
 "cells": [
  {
   "cell_type": "code",
   "execution_count": 1,
   "metadata": {},
   "outputs": [],
   "source": [
    "import pandas as pd\n",
    "import numpy as np\n",
    "import seaborn as sns\n",
    "import matplotlib.pyplot as plt\n",
    "from numpy import mean\n",
    "from numpy import std\n",
    "import matplotlib.ticker as mticker\n",
    "import matplotlib.ticker as plticker\n",
    "import matplotlib\n",
    "import matplotlib.ticker as ticker"
   ]
  },
  {
   "cell_type": "markdown",
   "metadata": {},
   "source": [
    "# Task 1"
   ]
  },
  {
   "cell_type": "code",
   "execution_count": 2,
   "metadata": {},
   "outputs": [],
   "source": [
    "for i in range(2009, 2018):\n",
    "    next_year = i + 1\n",
    "    if i == 2009:\n",
    "        df = pd.read_csv('data/names/yob%s.txt' % i, sep=\",\", header=None, names=[\"name\", \"gender\", \"frequency\"])\n",
    "        df2 = pd.read_csv('data/names/yob%s.txt' % next_year, sep=\",\", header=None, names=[\"name\", \"gender\", \"frequency\"])\n",
    "        df=pd.concat([df, df2]).groupby(['name', 'gender']).sum().reset_index()\n",
    "    else:\n",
    "        df2 = pd.read_csv('data/names/yob%s.txt' % next_year, sep=\",\", header=None, names=[\"name\", \"gender\", \"frequency\"])\n",
    "        df=pd.concat([df, df2]).groupby(['name', 'gender']).sum().reset_index()"
   ]
  },
  {
   "cell_type": "code",
   "execution_count": 3,
   "metadata": {},
   "outputs": [
    {
     "data": {
      "text/html": [
       "<div>\n",
       "<style scoped>\n",
       "    .dataframe tbody tr th:only-of-type {\n",
       "        vertical-align: middle;\n",
       "    }\n",
       "\n",
       "    .dataframe tbody tr th {\n",
       "        vertical-align: top;\n",
       "    }\n",
       "\n",
       "    .dataframe thead th {\n",
       "        text-align: right;\n",
       "    }\n",
       "</style>\n",
       "<table border=\"1\" class=\"dataframe\">\n",
       "  <thead>\n",
       "    <tr style=\"text-align: right;\">\n",
       "      <th></th>\n",
       "      <th>name</th>\n",
       "      <th>gender</th>\n",
       "      <th>frequency</th>\n",
       "    </tr>\n",
       "  </thead>\n",
       "  <tbody>\n",
       "    <tr>\n",
       "      <th>18071</th>\n",
       "      <td>Emma</td>\n",
       "      <td>F</td>\n",
       "      <td>195305</td>\n",
       "    </tr>\n",
       "    <tr>\n",
       "      <th>52431</th>\n",
       "      <td>Sophia</td>\n",
       "      <td>F</td>\n",
       "      <td>183930</td>\n",
       "    </tr>\n",
       "    <tr>\n",
       "      <th>44660</th>\n",
       "      <td>Olivia</td>\n",
       "      <td>F</td>\n",
       "      <td>183016</td>\n",
       "    </tr>\n",
       "    <tr>\n",
       "      <th>43987</th>\n",
       "      <td>Noah</td>\n",
       "      <td>M</td>\n",
       "      <td>180904</td>\n",
       "    </tr>\n",
       "    <tr>\n",
       "      <th>23190</th>\n",
       "      <td>Isabella</td>\n",
       "      <td>F</td>\n",
       "      <td>179015</td>\n",
       "    </tr>\n",
       "    <tr>\n",
       "      <th>...</th>\n",
       "      <td>...</td>\n",
       "      <td>...</td>\n",
       "      <td>...</td>\n",
       "    </tr>\n",
       "    <tr>\n",
       "      <th>14680</th>\n",
       "      <td>Deavion</td>\n",
       "      <td>F</td>\n",
       "      <td>5</td>\n",
       "    </tr>\n",
       "    <tr>\n",
       "      <th>14676</th>\n",
       "      <td>Deavan</td>\n",
       "      <td>M</td>\n",
       "      <td>5</td>\n",
       "    </tr>\n",
       "    <tr>\n",
       "      <th>50984</th>\n",
       "      <td>Shameir</td>\n",
       "      <td>M</td>\n",
       "      <td>5</td>\n",
       "    </tr>\n",
       "    <tr>\n",
       "      <th>50987</th>\n",
       "      <td>Shamell</td>\n",
       "      <td>M</td>\n",
       "      <td>5</td>\n",
       "    </tr>\n",
       "    <tr>\n",
       "      <th>51863</th>\n",
       "      <td>Sierraleone</td>\n",
       "      <td>F</td>\n",
       "      <td>5</td>\n",
       "    </tr>\n",
       "  </tbody>\n",
       "</table>\n",
       "<p>60571 rows × 3 columns</p>\n",
       "</div>"
      ],
      "text/plain": [
       "              name gender  frequency\n",
       "18071         Emma      F     195305\n",
       "52431       Sophia      F     183930\n",
       "44660       Olivia      F     183016\n",
       "43987         Noah      M     180904\n",
       "23190     Isabella      F     179015\n",
       "...            ...    ...        ...\n",
       "14680      Deavion      F          5\n",
       "14676       Deavan      M          5\n",
       "50984      Shameir      M          5\n",
       "50987      Shamell      M          5\n",
       "51863  Sierraleone      F          5\n",
       "\n",
       "[60571 rows x 3 columns]"
      ]
     },
     "execution_count": 3,
     "metadata": {},
     "output_type": "execute_result"
    }
   ],
   "source": [
    "df= df.sort_values(by=['frequency'], ascending=False)\n",
    "df"
   ]
  },
  {
   "cell_type": "code",
   "execution_count": 4,
   "metadata": {},
   "outputs": [],
   "source": [
    "top_10=df.head(n=10)"
   ]
  },
  {
   "cell_type": "code",
   "execution_count": 5,
   "metadata": {},
   "outputs": [
    {
     "data": {
      "image/png": "[encoded data removed]",
      "text/plain": [
       "<Figure size 1080x432 with 1 Axes>"
      ]
     },
     "metadata": {
      "needs_background": "light"
     },
     "output_type": "display_data"
    }
   ],
   "source": [
    "ax=sns.barplot(data=top_10, x='frequency', y='name', hue='gender')\n",
    "fig = plt.gcf()\n",
    "fig.set_size_inches(15, 6)\n",
    "ax.set_title('Most popular names 2009 - 2018')\n",
    "plt.show()"
   ]
  },
  {
   "cell_type": "markdown",
   "metadata": {},
   "source": [
    "## Conclusion:\n",
    "The 3 most popular names for women were Emma, Sophia and Olivia. And for men were Noah, Jacob and William.\n",
    "You can notice that the top 3 most popular names are from women, this could be related with the fact that more women were born in those years."
   ]
  },
  {
   "cell_type": "markdown",
   "metadata": {},
   "source": [
    "# Task 2"
   ]
  },
  {
   "cell_type": "code",
   "execution_count": 6,
   "metadata": {},
   "outputs": [],
   "source": [
    "for i in range(1990, 2000):\n",
    "    next_year = i + 1\n",
    "    if i == 1990:\n",
    "        df = pd.read_csv('data/names/yob%s.txt' % i, sep=\",\", header=None, names=[\"name\", \"gender\", \"frequency\"])\n",
    "        df2 = pd.read_csv('data/names/yob%s.txt' % next_year, sep=\",\", header=None, names=[\"name\", \"gender\", \"frequency\"])\n",
    "        df=pd.concat([df, df2]).groupby(['name', 'gender']).sum().reset_index()\n",
    "    else:\n",
    "        df2 = pd.read_csv('data/names/yob%s.txt' % next_year, sep=\",\", header=None, names=[\"name\", \"gender\", \"frequency\"])\n",
    "        df=pd.concat([df, df2]).groupby(['name', 'gender']).sum().reset_index()"
   ]
  },
  {
   "cell_type": "code",
   "execution_count": 7,
   "metadata": {},
   "outputs": [
    {
     "data": {
      "text/html": [
       "<div>\n",
       "<style scoped>\n",
       "    .dataframe tbody tr th:only-of-type {\n",
       "        vertical-align: middle;\n",
       "    }\n",
       "\n",
       "    .dataframe tbody tr th {\n",
       "        vertical-align: top;\n",
       "    }\n",
       "\n",
       "    .dataframe thead th {\n",
       "        text-align: right;\n",
       "    }\n",
       "</style>\n",
       "<table border=\"1\" class=\"dataframe\">\n",
       "  <thead>\n",
       "    <tr style=\"text-align: right;\">\n",
       "      <th></th>\n",
       "      <th>gender</th>\n",
       "      <th>frequency</th>\n",
       "    </tr>\n",
       "  </thead>\n",
       "  <tbody>\n",
       "    <tr>\n",
       "      <th>0</th>\n",
       "      <td>F</td>\n",
       "      <td>19816748</td>\n",
       "    </tr>\n",
       "    <tr>\n",
       "      <th>1</th>\n",
       "      <td>M</td>\n",
       "      <td>21437454</td>\n",
       "    </tr>\n",
       "  </tbody>\n",
       "</table>\n",
       "</div>"
      ],
      "text/plain": [
       "  gender  frequency\n",
       "0      F   19816748\n",
       "1      M   21437454"
      ]
     },
     "execution_count": 7,
     "metadata": {},
     "output_type": "execute_result"
    }
   ],
   "source": [
    "df.groupby(['gender']).sum().reset_index()"
   ]
  },
  {
   "cell_type": "code",
   "execution_count": 13,
   "metadata": {},
   "outputs": [
    {
     "data": {
      "text/plain": [
       "<matplotlib.legend.Legend at 0x7f30174a1400>"
      ]
     },
     "execution_count": 13,
     "metadata": {},
     "output_type": "execute_result"
    },
    {
     "data": {
      "image/png": "[encoded data removed]",
      "text/plain": [
       "<Figure size 432x288 with 1 Axes>"
      ]
     },
     "metadata": {},
     "output_type": "display_data"
    }
   ],
   "source": [
    "fig, ax = plt.subplots()\n",
    "\n",
    "plt.rcParams['font.size']=12\n",
    "labels = ['Female (52%)', 'Male (48%)']\n",
    "percentages = [0.48035 ,0.51964]\n",
    "explode=(0.1,0)\n",
    "ax.pie(percentages, explode=explode, labels=labels,   \n",
    "       shadow=False, startangle=0,   \n",
    "       pctdistance=1.2,labeldistance=1.4)\n",
    "ax.axis('equal')\n",
    "ax.set_title(\"People with born from 1990-2010\")\n",
    "ax.legend(frameon=False, bbox_to_anchor=(1.5,0.8))"
   ]
  },
  {
   "cell_type": "markdown",
   "metadata": {},
   "source": [
    "## Conclusion:\n",
    "From 1990 to 2019 there were born a total of 41,254,202. From which 19,816,748 were female and 21,437,454 were male. This represents approximately 52% and 48%.\n",
    "We can get an idea of how big this number is by comparing it to the total population of Poland (2019), which is roughly 37.97 million. So the number of babies born in those 10 years are bigger than the entire population of Poland.\n"
   ]
  },
  {
   "cell_type": "markdown",
   "metadata": {},
   "source": [
    "# Task 3"
   ]
  },
  {
   "cell_type": "code",
   "execution_count": 7,
   "metadata": {},
   "outputs": [],
   "source": [
    "\n",
    "for i in range(1880, 2018):\n",
    "    next_year = i + 1\n",
    "    if i == 1880:\n",
    "        #Prepare first df\n",
    "        df_temp = pd.read_csv('data/names/yob%s.txt' % i, sep=\",\", header=None, names=[\"name\", \"gender\", \"frequency\"])\n",
    "        df_temp=df_temp.groupby('gender').sum().reset_index()\n",
    "        df_temp['year'] = i\n",
    "        #Prepare 2nd df\n",
    "        df_temp_2 = pd.read_csv('data/names/yob%s.txt' % next_year, sep=\",\", header=None, names=[\"name\", \"gender\", \"frequency\"])\n",
    "        df_temp_2 = df_temp_2.groupby('gender').sum().reset_index()\n",
    "        df_temp_2['year'] = next_year\n",
    "        #Concatenate\n",
    "        df = pd.concat([df_temp,df_temp_2])\n",
    "    else:\n",
    "        df_temp = pd.read_csv('data/names/yob%s.txt' % next_year, sep=\",\", header=None, names=[\"name\", \"gender\", \"frequency\"])\n",
    "        df_temp=df_temp.groupby('gender').sum().reset_index()\n",
    "        df_temp['year'] = next_year\n",
    "        df = pd.concat([df,df_temp])\n",
    "\n"
   ]
  },
  {
   "cell_type": "code",
   "execution_count": 8,
   "metadata": {},
   "outputs": [
    {
     "data": {
      "text/plain": [
       "(278, 3)"
      ]
     },
     "execution_count": 8,
     "metadata": {},
     "output_type": "execute_result"
    }
   ],
   "source": [
    "df"
   ]
  },
  {
   "cell_type": "code",
   "execution_count": 9,
   "metadata": {},
   "outputs": [
    {
     "data": {
      "image/png": "[encoded data removed]",
      "text/plain": [
       "<Figure size 1080x720 with 1 Axes>"
      ]
     },
     "metadata": {
      "needs_background": "light"
     },
     "output_type": "display_data"
    }
   ],
   "source": [
    "ax=sns.barplot(data=df, x='year', y='frequency', hue='gender')\n",
    "fig = plt.gcf()\n",
    "fig.set_size_inches(15, 10)\n",
    "ax.set_title('Births 1880 - 2018')\n",
    "i=0\n",
    "for label in ax.get_xticklabels()[::1]:\n",
    "    i += 1\n",
    "    if not i % 10 == 0:\n",
    "        label.set_visible(False)\n",
    "    \n",
    "\n",
    "plt.show()"
   ]
  },
  {
   "cell_type": "markdown",
   "metadata": {},
   "source": [
    "## Conclusion:\n",
    "In this bar plot we can appreciate how the US population has grown over the years. The number of babies born had a huge spike around 1912, then it got stabilized for a couple of years. Until 1942 where we can see an even bigger spike of growth, this kept growing to a maximum of approximately 4 million babies per year. After this big spike we can see how in the year 1964 this went down and went up once again around 1977.\n",
    "\n",
    "Other important aspect of this is that despite that the number of babies born per year is similar in the 1960s and in the current years, there is a lower ratio of the number of babies that the average couple has. We can get this conclusion because the population from the US in 1960 was 180 million and currently it is 328 million. The total population has almost doubled while the number of babies born has decresead sligthly."
   ]
  },
  {
   "cell_type": "markdown",
   "metadata": {},
   "source": [
    "# Task 4"
   ]
  },
  {
   "cell_type": "code",
   "execution_count": 10,
   "metadata": {},
   "outputs": [],
   "source": [
    "df_1997 = pd.read_csv('data/names/yob1997.txt' , sep=\",\", header=None, names=[\"name\", \"gender\", \"frequency\"])"
   ]
  },
  {
   "cell_type": "code",
   "execution_count": 11,
   "metadata": {},
   "outputs": [
    {
     "data": {
      "text/html": [
       "<div>\n",
       "<style scoped>\n",
       "    .dataframe tbody tr th:only-of-type {\n",
       "        vertical-align: middle;\n",
       "    }\n",
       "\n",
       "    .dataframe tbody tr th {\n",
       "        vertical-align: top;\n",
       "    }\n",
       "\n",
       "    .dataframe thead th {\n",
       "        text-align: right;\n",
       "    }\n",
       "</style>\n",
       "<table border=\"1\" class=\"dataframe\">\n",
       "  <thead>\n",
       "    <tr style=\"text-align: right;\">\n",
       "      <th></th>\n",
       "      <th>name</th>\n",
       "      <th>gender</th>\n",
       "      <th>frequency</th>\n",
       "    </tr>\n",
       "  </thead>\n",
       "  <tbody>\n",
       "    <tr>\n",
       "      <th>5531</th>\n",
       "      <td>Luis</td>\n",
       "      <td>F</td>\n",
       "      <td>18</td>\n",
       "    </tr>\n",
       "    <tr>\n",
       "      <th>16211</th>\n",
       "      <td>Luis</td>\n",
       "      <td>M</td>\n",
       "      <td>7128</td>\n",
       "    </tr>\n",
       "  </tbody>\n",
       "</table>\n",
       "</div>"
      ],
      "text/plain": [
       "       name gender  frequency\n",
       "5531   Luis      F         18\n",
       "16211  Luis      M       7128"
      ]
     },
     "execution_count": 11,
     "metadata": {},
     "output_type": "execute_result"
    }
   ],
   "source": [
    "df_1997[df_1997['name'] == 'Luis']"
   ]
  },
  {
   "cell_type": "markdown",
   "metadata": {},
   "source": [
    "## Insight 1:\n",
    "In the year I was born (1997), there were other 7146 people named Luis, from which the bast majority were male. This is interesting to me because I've never met a woman with my name."
   ]
  },
  {
   "cell_type": "code",
   "execution_count": 26,
   "metadata": {},
   "outputs": [
    {
     "data": {
      "text/plain": [
       "<matplotlib.legend.Legend at 0x7fbe1a0f1080>"
      ]
     },
     "execution_count": 26,
     "metadata": {},
     "output_type": "execute_result"
    },
    {
     "data": {
      "image/png": "[encoded data removed]",
      "text/plain": [
       "<Figure size 432x288 with 1 Axes>"
      ]
     },
     "metadata": {},
     "output_type": "display_data"
    }
   ],
   "source": [
    "fig, ax = plt.subplots()\n",
    "\n",
    "plt.rcParams['font.size']=12\n",
    "labels = ['Male ', 'Female']\n",
    "percentages = [7128 ,18]\n",
    "explode=(0.1,0)\n",
    "ax.pie(percentages, explode=explode, labels=labels,   \n",
    "       shadow=False, startangle=0,   \n",
    "       pctdistance=1.2,labeldistance=1.4)\n",
    "ax.axis('equal')\n",
    "ax.set_title(\"People with name Luis born in 1997\")\n",
    "ax.legend(frameon=False, bbox_to_anchor=(1.5,0.8))"
   ]
  },
  {
   "cell_type": "code",
   "execution_count": 19,
   "metadata": {},
   "outputs": [],
   "source": [
    "name = 'Luis'\n",
    "for i in range(1880, 2018):\n",
    "    next_year = i + 1\n",
    "    if i == 1880:\n",
    "        #Prepare first df\n",
    "        df_temp = pd.read_csv('data/names/yob%s.txt' % i, sep=\",\", header=None, names=[\"name\", \"gender\", \"frequency\"])\n",
    "        df_temp = df_temp[df_temp['name'] == name]\n",
    "        df_temp=df_temp.groupby('gender').sum().reset_index()\n",
    "        df_temp['year'] = i\n",
    "        #Prepare 2nd df\n",
    "        df_temp_2 = pd.read_csv('data/names/yob%s.txt' % next_year, sep=\",\", header=None, names=[\"name\", \"gender\", \"frequency\"])\n",
    "        df_temp_2 = df_temp_2[df_temp_2['name'] == name]\n",
    "        df_temp_2 = df_temp_2.groupby('gender').sum().reset_index()\n",
    "        df_temp_2['year'] = next_year\n",
    "        #Concatenate\n",
    "        df_luis = pd.concat([df_temp,df_temp_2])\n",
    "    else:\n",
    "        df_temp = pd.read_csv('data/names/yob%s.txt' % next_year, sep=\",\", header=None, names=[\"name\", \"gender\", \"frequency\"])\n",
    "        df_temp = df_temp[df_temp['name'] == name]\n",
    "        df_temp=df_temp.groupby('gender').sum().reset_index()\n",
    "        df_temp['year'] = next_year\n",
    "        df_luis = pd.concat([df,df_temp])\n"
   ]
  },
  {
   "cell_type": "code",
   "execution_count": 15,
   "metadata": {},
   "outputs": [
    {
     "data": {
      "text/html": [
       "<div>\n",
       "<style scoped>\n",
       "    .dataframe tbody tr th:only-of-type {\n",
       "        vertical-align: middle;\n",
       "    }\n",
       "\n",
       "    .dataframe tbody tr th {\n",
       "        vertical-align: top;\n",
       "    }\n",
       "\n",
       "    .dataframe thead th {\n",
       "        text-align: right;\n",
       "    }\n",
       "</style>\n",
       "<table border=\"1\" class=\"dataframe\">\n",
       "  <thead>\n",
       "    <tr style=\"text-align: right;\">\n",
       "      <th></th>\n",
       "      <th>gender</th>\n",
       "      <th>frequency</th>\n",
       "      <th>year</th>\n",
       "    </tr>\n",
       "  </thead>\n",
       "  <tbody>\n",
       "    <tr>\n",
       "      <th>0</th>\n",
       "      <td>M</td>\n",
       "      <td>12</td>\n",
       "      <td>1880</td>\n",
       "    </tr>\n",
       "    <tr>\n",
       "      <th>0</th>\n",
       "      <td>M</td>\n",
       "      <td>12</td>\n",
       "      <td>1881</td>\n",
       "    </tr>\n",
       "    <tr>\n",
       "      <th>0</th>\n",
       "      <td>M</td>\n",
       "      <td>13</td>\n",
       "      <td>1882</td>\n",
       "    </tr>\n",
       "    <tr>\n",
       "      <th>0</th>\n",
       "      <td>M</td>\n",
       "      <td>8</td>\n",
       "      <td>1883</td>\n",
       "    </tr>\n",
       "    <tr>\n",
       "      <th>0</th>\n",
       "      <td>M</td>\n",
       "      <td>14</td>\n",
       "      <td>1884</td>\n",
       "    </tr>\n",
       "  </tbody>\n",
       "</table>\n",
       "</div>"
      ],
      "text/plain": [
       "  gender  frequency  year\n",
       "0      M         12  1880\n",
       "0      M         12  1881\n",
       "0      M         13  1882\n",
       "0      M          8  1883\n",
       "0      M         14  1884"
      ]
     },
     "execution_count": 15,
     "metadata": {},
     "output_type": "execute_result"
    }
   ],
   "source": [
    "df_luis.head()"
   ]
  },
  {
   "cell_type": "code",
   "execution_count": 21,
   "metadata": {},
   "outputs": [
    {
     "data": {
      "image/png": "[encoded data removed]",
      "text/plain": [
       "<Figure size 1080x720 with 1 Axes>"
      ]
     },
     "metadata": {
      "needs_background": "light"
     },
     "output_type": "display_data"
    }
   ],
   "source": [
    "ax=sns.barplot(data=df_luis, x='year', y='frequency', hue='gender')\n",
    "fig = plt.gcf()\n",
    "fig.set_size_inches(15, 10)\n",
    "ax.set_title('People named %s 1880 - 2018 in the USA' % name)\n",
    "i=0\n",
    "for label in ax.get_xticklabels()[::1]:\n",
    "    i += 1\n",
    "    if not i % 6 == 0:\n",
    "        label.set_visible(False)\n",
    "    \n",
    "\n",
    "plt.show()"
   ]
  },
  {
   "cell_type": "markdown",
   "metadata": {},
   "source": [
    "## Insight 2:\n",
    "From the previous graph we can appreciate how many people was named 'Luis' per year from 1880 to 2018. We can see how there were a little more than 8,000 people named Luis around the year 2007. But unfortunately the tendency of people naming their kids this way is going down after that spike."
   ]
  },
  {
   "cell_type": "code",
   "execution_count": 25,
   "metadata": {},
   "outputs": [
    {
     "data": {
      "text/html": [
       "<div>\n",
       "<style scoped>\n",
       "    .dataframe tbody tr th:only-of-type {\n",
       "        vertical-align: middle;\n",
       "    }\n",
       "\n",
       "    .dataframe tbody tr th {\n",
       "        vertical-align: top;\n",
       "    }\n",
       "\n",
       "    .dataframe thead th {\n",
       "        text-align: right;\n",
       "    }\n",
       "</style>\n",
       "<table border=\"1\" class=\"dataframe\">\n",
       "  <thead>\n",
       "    <tr style=\"text-align: right;\">\n",
       "      <th></th>\n",
       "      <th>gender</th>\n",
       "      <th>frequency</th>\n",
       "      <th>year</th>\n",
       "    </tr>\n",
       "  </thead>\n",
       "  <tbody>\n",
       "    <tr>\n",
       "      <th>1</th>\n",
       "      <td>M</td>\n",
       "      <td>8051</td>\n",
       "      <td>2007</td>\n",
       "    </tr>\n",
       "    <tr>\n",
       "      <th>1</th>\n",
       "      <td>M</td>\n",
       "      <td>7921</td>\n",
       "      <td>2006</td>\n",
       "    </tr>\n",
       "    <tr>\n",
       "      <th>1</th>\n",
       "      <td>M</td>\n",
       "      <td>7661</td>\n",
       "      <td>2000</td>\n",
       "    </tr>\n",
       "    <tr>\n",
       "      <th>1</th>\n",
       "      <td>M</td>\n",
       "      <td>7580</td>\n",
       "      <td>2003</td>\n",
       "    </tr>\n",
       "    <tr>\n",
       "      <th>1</th>\n",
       "      <td>M</td>\n",
       "      <td>7493</td>\n",
       "      <td>2004</td>\n",
       "    </tr>\n",
       "  </tbody>\n",
       "</table>\n",
       "</div>"
      ],
      "text/plain": [
       "  gender  frequency  year\n",
       "1      M       8051  2007\n",
       "1      M       7921  2006\n",
       "1      M       7661  2000\n",
       "1      M       7580  2003\n",
       "1      M       7493  2004"
      ]
     },
     "execution_count": 25,
     "metadata": {},
     "output_type": "execute_result"
    }
   ],
   "source": [
    "df_luis=df_luis.sort_values(by=['frequency'], ascending=False)\n",
    "df.head()"
   ]
  },
  {
   "cell_type": "markdown",
   "metadata": {},
   "source": [
    "## Insight 3:\n",
    "In the previous chart we can aprecciate the 5 years with most people named Luis."
   ]
  }
 ],
 "metadata": {
  "kernelspec": {
   "display_name": "Python 3",
   "language": "python",
   "name": "python3"
  },
  "language_info": {
   "codemirror_mode": {
    "name": "ipython",
    "version": 3
   },
   "file_extension": ".py",
   "mimetype": "text/x-python",
   "name": "python",
   "nbconvert_exporter": "python",
   "pygments_lexer": "ipython3",
   "version": "3.6.9"
  }
 },
 "nbformat": 4,
 "nbformat_minor": 4
}
