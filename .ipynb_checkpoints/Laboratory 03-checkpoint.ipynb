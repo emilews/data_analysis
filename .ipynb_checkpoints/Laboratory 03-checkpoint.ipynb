{
 "cells": [
  {
   "cell_type": "code",
   "execution_count": 1,
   "metadata": {},
   "outputs": [],
   "source": [
    "import pandas as pd\n",
    "import numpy as np\n",
    "import seaborn as sns\n",
    "import matplotlib.pyplot as plt\n",
    "from numpy import mean\n",
    "from numpy import std\n",
    "import matplotlib.ticker as mticker\n",
    "import matplotlib.ticker as plticker\n",
    "import matplotlib\n",
    "import matplotlib.ticker as ticker"
   ]
  },
  {
   "cell_type": "markdown",
   "metadata": {},
   "source": [
    "# Task 1"
   ]
  },
  {
   "cell_type": "code",
   "execution_count": 2,
   "metadata": {},
   "outputs": [],
   "source": [
    "for i in range(2009, 2018):\n",
    "    next_year = i + 1\n",
    "    if i == 2009:\n",
    "        df = pd.read_csv('data/names/yob%s.txt' % i, sep=\",\", header=None, names=[\"name\", \"gender\", \"frequency\"])\n",
    "        df2 = pd.read_csv('data/names/yob%s.txt' % next_year, sep=\",\", header=None, names=[\"name\", \"gender\", \"frequency\"])\n",
    "        df=pd.concat([df, df2]).groupby(['name', 'gender']).sum().reset_index()\n",
    "    else:\n",
    "        df2 = pd.read_csv('data/names/yob%s.txt' % next_year, sep=\",\", header=None, names=[\"name\", \"gender\", \"frequency\"])\n",
    "        df=pd.concat([df, df2]).groupby(['name', 'gender']).sum().reset_index()"
   ]
  },
  {
   "cell_type": "code",
   "execution_count": 3,
   "metadata": {},
   "outputs": [
    {
     "data": {
      "text/html": [
       "<div>\n",
       "<style scoped>\n",
       "    .dataframe tbody tr th:only-of-type {\n",
       "        vertical-align: middle;\n",
       "    }\n",
       "\n",
       "    .dataframe tbody tr th {\n",
       "        vertical-align: top;\n",
       "    }\n",
       "\n",
       "    .dataframe thead th {\n",
       "        text-align: right;\n",
       "    }\n",
       "</style>\n",
       "<table border=\"1\" class=\"dataframe\">\n",
       "  <thead>\n",
       "    <tr style=\"text-align: right;\">\n",
       "      <th></th>\n",
       "      <th>name</th>\n",
       "      <th>gender</th>\n",
       "      <th>frequency</th>\n",
       "    </tr>\n",
       "  </thead>\n",
       "  <tbody>\n",
       "    <tr>\n",
       "      <th>18071</th>\n",
       "      <td>Emma</td>\n",
       "      <td>F</td>\n",
       "      <td>195305</td>\n",
       "    </tr>\n",
       "    <tr>\n",
       "      <th>52431</th>\n",
       "      <td>Sophia</td>\n",
       "      <td>F</td>\n",
       "      <td>183930</td>\n",
       "    </tr>\n",
       "    <tr>\n",
       "      <th>44660</th>\n",
       "      <td>Olivia</td>\n",
       "      <td>F</td>\n",
       "      <td>183016</td>\n",
       "    </tr>\n",
       "    <tr>\n",
       "      <th>43987</th>\n",
       "      <td>Noah</td>\n",
       "      <td>M</td>\n",
       "      <td>180904</td>\n",
       "    </tr>\n",
       "    <tr>\n",
       "      <th>23190</th>\n",
       "      <td>Isabella</td>\n",
       "      <td>F</td>\n",
       "      <td>179015</td>\n",
       "    </tr>\n",
       "    <tr>\n",
       "      <th>...</th>\n",
       "      <td>...</td>\n",
       "      <td>...</td>\n",
       "      <td>...</td>\n",
       "    </tr>\n",
       "    <tr>\n",
       "      <th>14680</th>\n",
       "      <td>Deavion</td>\n",
       "      <td>F</td>\n",
       "      <td>5</td>\n",
       "    </tr>\n",
       "    <tr>\n",
       "      <th>14676</th>\n",
       "      <td>Deavan</td>\n",
       "      <td>M</td>\n",
       "      <td>5</td>\n",
       "    </tr>\n",
       "    <tr>\n",
       "      <th>50984</th>\n",
       "      <td>Shameir</td>\n",
       "      <td>M</td>\n",
       "      <td>5</td>\n",
       "    </tr>\n",
       "    <tr>\n",
       "      <th>50987</th>\n",
       "      <td>Shamell</td>\n",
       "      <td>M</td>\n",
       "      <td>5</td>\n",
       "    </tr>\n",
       "    <tr>\n",
       "      <th>51863</th>\n",
       "      <td>Sierraleone</td>\n",
       "      <td>F</td>\n",
       "      <td>5</td>\n",
       "    </tr>\n",
       "  </tbody>\n",
       "</table>\n",
       "<p>60571 rows × 3 columns</p>\n",
       "</div>"
      ],
      "text/plain": [
       "              name gender  frequency\n",
       "18071         Emma      F     195305\n",
       "52431       Sophia      F     183930\n",
       "44660       Olivia      F     183016\n",
       "43987         Noah      M     180904\n",
       "23190     Isabella      F     179015\n",
       "...            ...    ...        ...\n",
       "14680      Deavion      F          5\n",
       "14676       Deavan      M          5\n",
       "50984      Shameir      M          5\n",
       "50987      Shamell      M          5\n",
       "51863  Sierraleone      F          5\n",
       "\n",
       "[60571 rows x 3 columns]"
      ]
     },
     "execution_count": 3,
     "metadata": {},
     "output_type": "execute_result"
    }
   ],
   "source": [
    "df= df.sort_values(by=['frequency'], ascending=False)\n",
    "df"
   ]
  },
  {
   "cell_type": "code",
   "execution_count": 4,
   "metadata": {},
   "outputs": [],
   "source": [
    "top_10=df.head(n=10)"
   ]
  },
  {
   "cell_type": "code",
   "execution_count": 5,
   "metadata": {},
   "outputs": [
    {
     "data": {
      "image/png": "[encoded data removed]",
      "text/plain": [
       "<Figure size 1080x432 with 1 Axes>"
      ]
     },
     "metadata": {
      "needs_background": "light"
     },
     "output_type": "display_data"
    }
   ],
   "source": [
    "ax=sns.barplot(data=top_10, x='frequency', y='name', hue='gender')\n",
    "fig = plt.gcf()\n",
    "fig.set_size_inches(15, 6)\n",
    "ax.set_title('Most popular names 2009 - 2018')\n",
    "plt.show()"
   ]
  },
  {
   "cell_type": "markdown",
   "metadata": {},
   "source": [
    "## Conclusion:\n",
    "Lorem"
   ]
  },
  {
   "cell_type": "markdown",
   "metadata": {},
   "source": [
    "# Task 2"
   ]
  },
  {
   "cell_type": "code",
   "execution_count": 6,
   "metadata": {},
   "outputs": [
    {
     "data": {
      "text/html": [
       "<div>\n",
       "<style scoped>\n",
       "    .dataframe tbody tr th:only-of-type {\n",
       "        vertical-align: middle;\n",
       "    }\n",
       "\n",
       "    .dataframe tbody tr th {\n",
       "        vertical-align: top;\n",
       "    }\n",
       "\n",
       "    .dataframe thead th {\n",
       "        text-align: right;\n",
       "    }\n",
       "</style>\n",
       "<table border=\"1\" class=\"dataframe\">\n",
       "  <thead>\n",
       "    <tr style=\"text-align: right;\">\n",
       "      <th></th>\n",
       "      <th>name</th>\n",
       "      <th>gender</th>\n",
       "      <th>frequency</th>\n",
       "    </tr>\n",
       "  </thead>\n",
       "  <tbody>\n",
       "    <tr>\n",
       "      <th>0</th>\n",
       "      <td>Aadam</td>\n",
       "      <td>M</td>\n",
       "      <td>48</td>\n",
       "    </tr>\n",
       "    <tr>\n",
       "      <th>1</th>\n",
       "      <td>Aadarsh</td>\n",
       "      <td>M</td>\n",
       "      <td>5</td>\n",
       "    </tr>\n",
       "    <tr>\n",
       "      <th>2</th>\n",
       "      <td>Aadil</td>\n",
       "      <td>M</td>\n",
       "      <td>74</td>\n",
       "    </tr>\n",
       "    <tr>\n",
       "      <th>3</th>\n",
       "      <td>Aaditya</td>\n",
       "      <td>M</td>\n",
       "      <td>30</td>\n",
       "    </tr>\n",
       "    <tr>\n",
       "      <th>4</th>\n",
       "      <td>Aahil</td>\n",
       "      <td>M</td>\n",
       "      <td>6</td>\n",
       "    </tr>\n",
       "    <tr>\n",
       "      <th>...</th>\n",
       "      <td>...</td>\n",
       "      <td>...</td>\n",
       "      <td>...</td>\n",
       "    </tr>\n",
       "    <tr>\n",
       "      <th>52798</th>\n",
       "      <td>Zyron</td>\n",
       "      <td>M</td>\n",
       "      <td>17</td>\n",
       "    </tr>\n",
       "    <tr>\n",
       "      <th>52799</th>\n",
       "      <td>Zyshaun</td>\n",
       "      <td>M</td>\n",
       "      <td>11</td>\n",
       "    </tr>\n",
       "    <tr>\n",
       "      <th>52800</th>\n",
       "      <td>Zyshawn</td>\n",
       "      <td>M</td>\n",
       "      <td>26</td>\n",
       "    </tr>\n",
       "    <tr>\n",
       "      <th>52801</th>\n",
       "      <td>Zyshon</td>\n",
       "      <td>M</td>\n",
       "      <td>8</td>\n",
       "    </tr>\n",
       "    <tr>\n",
       "      <th>52802</th>\n",
       "      <td>Zyshonne</td>\n",
       "      <td>M</td>\n",
       "      <td>73</td>\n",
       "    </tr>\n",
       "  </tbody>\n",
       "</table>\n",
       "<p>52803 rows × 3 columns</p>\n",
       "</div>"
      ],
      "text/plain": [
       "           name gender  frequency\n",
       "0         Aadam      M         48\n",
       "1       Aadarsh      M          5\n",
       "2         Aadil      M         74\n",
       "3       Aaditya      M         30\n",
       "4         Aahil      M          6\n",
       "...         ...    ...        ...\n",
       "52798     Zyron      M         17\n",
       "52799   Zyshaun      M         11\n",
       "52800   Zyshawn      M         26\n",
       "52801    Zyshon      M          8\n",
       "52802  Zyshonne      M         73\n",
       "\n",
       "[52803 rows x 3 columns]"
      ]
     },
     "execution_count": 6,
     "metadata": {},
     "output_type": "execute_result"
    }
   ],
   "source": [
    "for i in range(1990, 2000):\n",
    "    next_year = i + 1\n",
    "    if i == 1990:\n",
    "        df = pd.read_csv('data/names/yob%s.txt' % i, sep=\",\", header=None, names=[\"name\", \"gender\", \"frequency\"])\n",
    "        df2 = pd.read_csv('data/names/yob%s.txt' % next_year, sep=\",\", header=None, names=[\"name\", \"gender\", \"frequency\"])\n",
    "        df=pd.concat([df, df2]).groupby(['name', 'gender']).sum().reset_index()\n",
    "    else:\n",
    "        df2 = pd.read_csv('data/names/yob%s.txt' % next_year, sep=\",\", header=None, names=[\"name\", \"gender\", \"frequency\"])\n",
    "        df=pd.concat([df, df2]).groupby(['name', 'gender']).sum().reset_index()\n",
    "df"
   ]
  },
  {
   "cell_type": "markdown",
   "metadata": {},
   "source": [
    "## Conclusion:\n",
    "Lorem"
   ]
  },
  {
   "cell_type": "markdown",
   "metadata": {},
   "source": [
    "# Task 3"
   ]
  },
  {
   "cell_type": "code",
   "execution_count": 7,
   "metadata": {},
   "outputs": [],
   "source": [
    "\n",
    "for i in range(1880, 2018):\n",
    "    next_year = i + 1\n",
    "    if i == 1880:\n",
    "        #Prepare first df\n",
    "        df_temp = pd.read_csv('data/names/yob%s.txt' % i, sep=\",\", header=None, names=[\"name\", \"gender\", \"frequency\"])\n",
    "        df_temp=df_temp.groupby('gender').sum().reset_index()\n",
    "        df_temp['year'] = i\n",
    "        #Prepare 2nd df\n",
    "        df_temp_2 = pd.read_csv('data/names/yob%s.txt' % next_year, sep=\",\", header=None, names=[\"name\", \"gender\", \"frequency\"])\n",
    "        df_temp_2 = df_temp_2.groupby('gender').sum().reset_index()\n",
    "        df_temp_2['year'] = next_year\n",
    "        #Concatenate\n",
    "        df = pd.concat([df_temp,df_temp_2])\n",
    "    else:\n",
    "        df_temp = pd.read_csv('data/names/yob%s.txt' % next_year, sep=\",\", header=None, names=[\"name\", \"gender\", \"frequency\"])\n",
    "        df_temp=df_temp.groupby('gender').sum().reset_index()\n",
    "        df_temp['year'] = next_year\n",
    "        df = pd.concat([df,df_temp])\n",
    "        "
   ]
  },
  {
   "cell_type": "code",
   "execution_count": 8,
   "metadata": {},
   "outputs": [
    {
     "data": {
      "image/png": "[encoded data removed]",
      "text/plain": [
       "<Figure size 1080x720 with 1 Axes>"
      ]
     },
     "metadata": {
      "needs_background": "light"
     },
     "output_type": "display_data"
    }
   ],
   "source": [
    "ax=sns.barplot(data=df, x='year', y='frequency', hue='gender')\n",
    "fig = plt.gcf()\n",
    "fig.set_size_inches(15, 10)\n",
    "ax.set_title('Births 1880 - 2018')\n",
    "i=0\n",
    "for label in ax.get_xticklabels()[::1]:\n",
    "    i += 1\n",
    "    if not i % 10 == 0:\n",
    "        label.set_visible(False)\n",
    "    \n",
    "\n",
    "plt.show()"
   ]
  },
  {
   "cell_type": "markdown",
   "metadata": {},
   "source": [
    "## Conclusion:\n",
    "Lorem"
   ]
  },
  {
   "cell_type": "markdown",
   "metadata": {},
   "source": [
    "# Task 4"
   ]
  },
  {
   "cell_type": "code",
   "execution_count": null,
   "metadata": {},
   "outputs": [],
   "source": []
  }
 ],
 "metadata": {
  "kernelspec": {
   "display_name": "Python 3",
   "language": "python",
   "name": "python3"
  },
  "language_info": {
   "codemirror_mode": {
    "name": "ipython",
    "version": 3
   },
   "file_extension": ".py",
   "mimetype": "text/x-python",
   "name": "python",
   "nbconvert_exporter": "python",
   "pygments_lexer": "ipython3",
   "version": "3.6.9"
  }
 },
 "nbformat": 4,
 "nbformat_minor": 4
}
